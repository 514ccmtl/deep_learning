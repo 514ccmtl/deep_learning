{
  "cells": [
    {
      "cell_type": "markdown",
      "id": "ba8ab56f",
      "metadata": {
        "id": "ba8ab56f"
      },
      "source": [
        "# Advanced Image Classification with ImageNet"
      ]
    },
    {
      "cell_type": "markdown",
      "id": "7c630244b8fe2847",
      "metadata": {
        "collapsed": false,
        "id": "7c630244b8fe2847"
      },
      "source": [
        "In this assignment, you will be asked to develop a convolutional neural network (CNN) to classify images from the CIFAR-100 dataset. At each step, you'll be guided through the process of developing a model architecture to solve a problem. Your goal is to create a CNN that attains at least 55% accuracy on the validation set.\n",
        "\n",
        "### The CIFAR-100 Dataset\n",
        "\n",
        "The [CIFAR-100 dataset](https://www.cs.toronto.edu/~kriz/cifar.html) consists of 60000 32x32 colour images in 100 classes, with 600 images per class. There are 50000 training images and 10000 test images. The dataset is divided into five training batches and one test batch, each with 10000 images. The test batch contains exactly 1000 randomly-selected images from each class. The training batches contain the remaining images in random order, but some training batches may contain more images from one class than another. Between them, the training batches contain exactly 500 images from each class.\n",
        "\n",
        "### Tools\n",
        "\n",
        "You will use Keras with TensorFlow to develop your CNN. For this assignment, it's strongly recommended that you use a GPU to accelerate your training, or else you might find it difficult to train your network in a reasonable amount of time. If you have a computer with a GPU that you wish to use, you can follow the [TensorFlow instructions](https://www.tensorflow.org/install/) for installing TensorFlow with GPU support. Otherwise, you can use [Google Colab](https://colab.research.google.com/) to complete this assignment. Colab provides free access to GPU-enabled machines. If you run into any issues, please contact us as soon as possible so that we can help you resolve them."
      ]
    },
    {
      "cell_type": "markdown",
      "id": "fab62988ece1528d",
      "metadata": {
        "collapsed": false,
        "id": "fab62988ece1528d"
      },
      "source": [
        "## Task 1: Data Exploration and Preprocessing (Complete or Incomplete)\n",
        "### 1a: Load and Explore the Dataset\n",
        "- Use the code below to download the dataset.\n",
        "- Explore the dataset: examine the shape of the training and test sets, the dimensions of the images, and the number of classes. Show a few examples from the training set."
      ]
    },
    {
      "cell_type": "code",
      "execution_count": 5,
      "id": "8820fcdc5ae52ae2",
      "metadata": {
        "ExecuteTime": {
          "start_time": "2024-01-26T17:04:08.432758Z"
        },
        "is_executing": true,
        "colab": {
          "base_uri": "https://localhost:8080/"
        },
        "id": "8820fcdc5ae52ae2",
        "outputId": "66e371ef-6f25-41eb-b275-90e01569a3d3"
      },
      "outputs": [
        {
          "output_type": "stream",
          "name": "stdout",
          "text": [
            "Downloading data from https://www.cs.toronto.edu/~kriz/cifar-100-python.tar.gz\n",
            "\u001b[1m169001437/169001437\u001b[0m \u001b[32m━━━━━━━━━━━━━━━━━━━━\u001b[0m\u001b[37m\u001b[0m \u001b[1m4s\u001b[0m 0us/step\n"
          ]
        }
      ],
      "source": [
        "from keras.datasets import cifar100\n",
        "\n",
        "# Load the CIFAR-100 dataset\n",
        "(x_train, y_train), (x_test, y_test) = cifar100.load_data(label_mode='fine')"
      ]
    },
    {
      "cell_type": "code",
      "execution_count": 6,
      "id": "a386b4072078138f",
      "metadata": {
        "colab": {
          "base_uri": "https://localhost:8080/",
          "height": 298
        },
        "id": "a386b4072078138f",
        "outputId": "ff219383-5f8e-4009-a676-8053b30d6957"
      },
      "outputs": [
        {
          "output_type": "stream",
          "name": "stdout",
          "text": [
            "x_train shape: (50000, 32, 32, 3)\n",
            "y_train shape: (50000, 1)\n",
            "x_test shape: (10000, 32, 32, 3)\n",
            "y_test shape: (10000, 1)\n",
            "Image dimensions: (32, 32, 3)\n",
            "Number of classes: 100\n"
          ]
        },
        {
          "output_type": "display_data",
          "data": {
            "text/plain": [
              "<Figure size 1000x200 with 5 Axes>"
            ],
            "image/png": "[encoded data removed]"
          },
          "metadata": {}
        }
      ],
      "source": [
        "import matplotlib.pyplot as plt\n",
        "from keras.datasets import cifar100\n",
        "\n",
        "# Load CIFAR-100 dataset\n",
        "(x_train, y_train), (x_test, y_test) = cifar100.load_data(label_mode='fine')\n",
        "\n",
        "# Examine shape of training and test sets\n",
        "print(f\"x_train shape: {x_train.shape}\")\n",
        "print(f\"y_train shape: {y_train.shape}\")\n",
        "print(f\"x_test shape: {x_test.shape}\")\n",
        "print(f\"y_test shape: {y_test.shape}\")\n",
        "\n",
        "# Extract dimensions of images\n",
        "image_shape = x_train.shape[1:]  # Height, Width, Channels\n",
        "print(f\"Image dimensions: {image_shape}\")\n",
        "\n",
        "# Determine number of classes\n",
        "num_classes = len(set(y_train.flatten()))\n",
        "print(f\"Number of classes: {num_classes}\")\n",
        "\n",
        "# Examples from training set\n",
        "def show_examples(x, y, num_examples=5):\n",
        "    plt.figure(figsize=(10, 2))\n",
        "    for i in range(num_examples):\n",
        "        plt.subplot(1, num_examples, i + 1)\n",
        "        plt.imshow(x[i])\n",
        "        plt.title(f\"Class: {y[i][0]}\")\n",
        "        plt.axis(\"off\")\n",
        "    plt.show()\n",
        "\n",
        "# Show examples\n",
        "show_examples(x_train, y_train)\n"
      ]
    },
    {
      "cell_type": "markdown",
      "id": "ad49291da3a819ea",
      "metadata": {
        "collapsed": false,
        "id": "ad49291da3a819ea"
      },
      "source": [
        "### 1b: Data Preprocessing (4 Marks)\n",
        "- With the data downloaded, it's time to preprocess it. Start by normalizing the images so that they all have pixel values in the range [0, 1].\n",
        "- Next, convert the labels to one-hot encoded vectors.\n",
        "- Finally, split the training set into training and validation sets. Use 80% of the training set for training and the remaining 20% for validation."
      ]
    },
    {
      "cell_type": "code",
      "execution_count": 7,
      "id": "b18c10172fa72d0c",
      "metadata": {
        "colab": {
          "base_uri": "https://localhost:8080/"
        },
        "id": "b18c10172fa72d0c",
        "outputId": "79da7baf-1f2f-4114-c39c-32d7972e8ee3"
      },
      "outputs": [
        {
          "output_type": "stream",
          "name": "stdout",
          "text": [
            "x_train shape: (40000, 32, 32, 3), y_train shape: (40000, 100)\n",
            "x_val shape: (10000, 32, 32, 3), y_val shape: (10000, 100)\n",
            "x_test shape: (10000, 32, 32, 3), y_test shape: (10000, 100)\n"
          ]
        }
      ],
      "source": [
        "import numpy as np\n",
        "from sklearn.model_selection import train_test_split\n",
        "from tensorflow.keras.utils import to_categorical\n",
        "from keras.datasets import cifar100\n",
        "\n",
        "# Load CIFAR-100 dataset\n",
        "(x_train, y_train), (x_test, y_test) = cifar100.load_data(label_mode='fine')\n",
        "\n",
        "# Normalize images\n",
        "x_train = x_train.astype('float32') / 255.0\n",
        "x_test = x_test.astype('float32') / 255.0\n",
        "\n",
        "# Convert labels to one-hot encoded vectors\n",
        "num_classes = 100\n",
        "y_train = to_categorical(y_train, num_classes=num_classes)\n",
        "y_test = to_categorical(y_test, num_classes=num_classes)\n",
        "\n",
        "# Split training set into training and validation sets\n",
        "x_train, x_val, y_train, y_val = train_test_split(\n",
        "    x_train, y_train, test_size=0.2, random_state=42\n",
        ")\n",
        "\n",
        "# Print shapes to verify\n",
        "print(f\"x_train shape: {x_train.shape}, y_train shape: {y_train.shape}\")\n",
        "print(f\"x_val shape: {x_val.shape}, y_val shape: {y_val.shape}\")\n",
        "print(f\"x_test shape: {x_test.shape}, y_test shape: {y_test.shape}\")\n"
      ]
    },
    {
      "cell_type": "markdown",
      "id": "5993757f08c89db7",
      "metadata": {
        "collapsed": false,
        "id": "5993757f08c89db7"
      },
      "source": [
        "## Task 2: Model Development (Complete or Incomplete)\n",
        "### Task 2a: Create a Baseline CNN Model\n",
        "- Design a CNN architecture. Your architecture should use convolutional layers, max pooling layers, and dense layers. You can use any number of layers, and you can experiment with different numbers of filters, filter sizes, strides, padding, etc. The design doesn't need to be perfect, but it should be unique to you.\n",
        "- Print out the model summary."
      ]
    },
    {
      "cell_type": "code",
      "execution_count": 8,
      "id": "c9edafdaf887b8d5",
      "metadata": {
        "colab": {
          "base_uri": "https://localhost:8080/",
          "height": 504
        },
        "id": "c9edafdaf887b8d5",
        "outputId": "4c2f8889-6785-4c5b-91e2-3e2e292b158b"
      },
      "outputs": [
        {
          "output_type": "stream",
          "name": "stderr",
          "text": [
            "/usr/local/lib/python3.10/dist-packages/keras/src/layers/convolutional/base_conv.py:107: UserWarning: Do not pass an `input_shape`/`input_dim` argument to a layer. When using Sequential models, prefer using an `Input(shape)` object as the first layer in the model instead.\n",
            "  super().__init__(activity_regularizer=activity_regularizer, **kwargs)\n"
          ]
        },
        {
          "output_type": "display_data",
          "data": {
            "text/plain": [
              "\u001b[1mModel: \"sequential\"\u001b[0m\n"
            ],
            "text/html": [
              "<pre style=\"white-space:pre;overflow-x:auto;line-height:normal;font-family:Menlo,'DejaVu Sans Mono',consolas,'Courier New',monospace\"><span style=\"font-weight: bold\">Model: \"sequential\"</span>\n",
              "</pre>\n"
            ]
          },
          "metadata": {}
        },
        {
          "output_type": "display_data",
          "data": {
            "text/plain": [
              "┏━━━━━━━━━━━━━━━━━━━━━━━━━━━━━━━━━━━━━━┳━━━━━━━━━━━━━━━━━━━━━━━━━━━━━┳━━━━━━━━━━━━━━━━━┓\n",
              "┃\u001b[1m \u001b[0m\u001b[1mLayer (type)                        \u001b[0m\u001b[1m \u001b[0m┃\u001b[1m \u001b[0m\u001b[1mOutput Shape               \u001b[0m\u001b[1m \u001b[0m┃\u001b[1m \u001b[0m\u001b[1m        Param #\u001b[0m\u001b[1m \u001b[0m┃\n",
              "┡━━━━━━━━━━━━━━━━━━━━━━━━━━━━━━━━━━━━━━╇━━━━━━━━━━━━━━━━━━━━━━━━━━━━━╇━━━━━━━━━━━━━━━━━┩\n",
              "│ conv2d (\u001b[38;5;33mConv2D\u001b[0m)                      │ (\u001b[38;5;45mNone\u001b[0m, \u001b[38;5;34m32\u001b[0m, \u001b[38;5;34m32\u001b[0m, \u001b[38;5;34m32\u001b[0m)          │             \u001b[38;5;34m896\u001b[0m │\n",
              "├──────────────────────────────────────┼─────────────────────────────┼─────────────────┤\n",
              "│ max_pooling2d (\u001b[38;5;33mMaxPooling2D\u001b[0m)         │ (\u001b[38;5;45mNone\u001b[0m, \u001b[38;5;34m16\u001b[0m, \u001b[38;5;34m16\u001b[0m, \u001b[38;5;34m32\u001b[0m)          │               \u001b[38;5;34m0\u001b[0m │\n",
              "├──────────────────────────────────────┼─────────────────────────────┼─────────────────┤\n",
              "│ conv2d_1 (\u001b[38;5;33mConv2D\u001b[0m)                    │ (\u001b[38;5;45mNone\u001b[0m, \u001b[38;5;34m16\u001b[0m, \u001b[38;5;34m16\u001b[0m, \u001b[38;5;34m64\u001b[0m)          │          \u001b[38;5;34m18,496\u001b[0m │\n",
              "├──────────────────────────────────────┼─────────────────────────────┼─────────────────┤\n",
              "│ max_pooling2d_1 (\u001b[38;5;33mMaxPooling2D\u001b[0m)       │ (\u001b[38;5;45mNone\u001b[0m, \u001b[38;5;34m8\u001b[0m, \u001b[38;5;34m8\u001b[0m, \u001b[38;5;34m64\u001b[0m)            │               \u001b[38;5;34m0\u001b[0m │\n",
              "├──────────────────────────────────────┼─────────────────────────────┼─────────────────┤\n",
              "│ conv2d_2 (\u001b[38;5;33mConv2D\u001b[0m)                    │ (\u001b[38;5;45mNone\u001b[0m, \u001b[38;5;34m8\u001b[0m, \u001b[38;5;34m8\u001b[0m, \u001b[38;5;34m128\u001b[0m)           │          \u001b[38;5;34m73,856\u001b[0m │\n",
              "├──────────────────────────────────────┼─────────────────────────────┼─────────────────┤\n",
              "│ max_pooling2d_2 (\u001b[38;5;33mMaxPooling2D\u001b[0m)       │ (\u001b[38;5;45mNone\u001b[0m, \u001b[38;5;34m4\u001b[0m, \u001b[38;5;34m4\u001b[0m, \u001b[38;5;34m128\u001b[0m)           │               \u001b[38;5;34m0\u001b[0m │\n",
              "├──────────────────────────────────────┼─────────────────────────────┼─────────────────┤\n",
              "│ flatten (\u001b[38;5;33mFlatten\u001b[0m)                    │ (\u001b[38;5;45mNone\u001b[0m, \u001b[38;5;34m2048\u001b[0m)                │               \u001b[38;5;34m0\u001b[0m │\n",
              "├──────────────────────────────────────┼─────────────────────────────┼─────────────────┤\n",
              "│ dense (\u001b[38;5;33mDense\u001b[0m)                        │ (\u001b[38;5;45mNone\u001b[0m, \u001b[38;5;34m512\u001b[0m)                 │       \u001b[38;5;34m1,049,088\u001b[0m │\n",
              "├──────────────────────────────────────┼─────────────────────────────┼─────────────────┤\n",
              "│ dropout (\u001b[38;5;33mDropout\u001b[0m)                    │ (\u001b[38;5;45mNone\u001b[0m, \u001b[38;5;34m512\u001b[0m)                 │               \u001b[38;5;34m0\u001b[0m │\n",
              "├──────────────────────────────────────┼─────────────────────────────┼─────────────────┤\n",
              "│ dense_1 (\u001b[38;5;33mDense\u001b[0m)                      │ (\u001b[38;5;45mNone\u001b[0m, \u001b[38;5;34m100\u001b[0m)                 │          \u001b[38;5;34m51,300\u001b[0m │\n",
              "└──────────────────────────────────────┴─────────────────────────────┴─────────────────┘\n"
            ],
            "text/html": [
              "<pre style=\"white-space:pre;overflow-x:auto;line-height:normal;font-family:Menlo,'DejaVu Sans Mono',consolas,'Courier New',monospace\">┏━━━━━━━━━━━━━━━━━━━━━━━━━━━━━━━━━━━━━━┳━━━━━━━━━━━━━━━━━━━━━━━━━━━━━┳━━━━━━━━━━━━━━━━━┓\n",
              "┃<span style=\"font-weight: bold\"> Layer (type)                         </span>┃<span style=\"font-weight: bold\"> Output Shape                </span>┃<span style=\"font-weight: bold\">         Param # </span>┃\n",
              "┡━━━━━━━━━━━━━━━━━━━━━━━━━━━━━━━━━━━━━━╇━━━━━━━━━━━━━━━━━━━━━━━━━━━━━╇━━━━━━━━━━━━━━━━━┩\n",
              "│ conv2d (<span style=\"color: #0087ff; text-decoration-color: #0087ff\">Conv2D</span>)                      │ (<span style=\"color: #00d7ff; text-decoration-color: #00d7ff\">None</span>, <span style=\"color: #00af00; text-decoration-color: #00af00\">32</span>, <span style=\"color: #00af00; text-decoration-color: #00af00\">32</span>, <span style=\"color: #00af00; text-decoration-color: #00af00\">32</span>)          │             <span style=\"color: #00af00; text-decoration-color: #00af00\">896</span> │\n",
              "├──────────────────────────────────────┼─────────────────────────────┼─────────────────┤\n",
              "│ max_pooling2d (<span style=\"color: #0087ff; text-decoration-color: #0087ff\">MaxPooling2D</span>)         │ (<span style=\"color: #00d7ff; text-decoration-color: #00d7ff\">None</span>, <span style=\"color: #00af00; text-decoration-color: #00af00\">16</span>, <span style=\"color: #00af00; text-decoration-color: #00af00\">16</span>, <span style=\"color: #00af00; text-decoration-color: #00af00\">32</span>)          │               <span style=\"color: #00af00; text-decoration-color: #00af00\">0</span> │\n",
              "├──────────────────────────────────────┼─────────────────────────────┼─────────────────┤\n",
              "│ conv2d_1 (<span style=\"color: #0087ff; text-decoration-color: #0087ff\">Conv2D</span>)                    │ (<span style=\"color: #00d7ff; text-decoration-color: #00d7ff\">None</span>, <span style=\"color: #00af00; text-decoration-color: #00af00\">16</span>, <span style=\"color: #00af00; text-decoration-color: #00af00\">16</span>, <span style=\"color: #00af00; text-decoration-color: #00af00\">64</span>)          │          <span style=\"color: #00af00; text-decoration-color: #00af00\">18,496</span> │\n",
              "├──────────────────────────────────────┼─────────────────────────────┼─────────────────┤\n",
              "│ max_pooling2d_1 (<span style=\"color: #0087ff; text-decoration-color: #0087ff\">MaxPooling2D</span>)       │ (<span style=\"color: #00d7ff; text-decoration-color: #00d7ff\">None</span>, <span style=\"color: #00af00; text-decoration-color: #00af00\">8</span>, <span style=\"color: #00af00; text-decoration-color: #00af00\">8</span>, <span style=\"color: #00af00; text-decoration-color: #00af00\">64</span>)            │               <span style=\"color: #00af00; text-decoration-color: #00af00\">0</span> │\n",
              "├──────────────────────────────────────┼─────────────────────────────┼─────────────────┤\n",
              "│ conv2d_2 (<span style=\"color: #0087ff; text-decoration-color: #0087ff\">Conv2D</span>)                    │ (<span style=\"color: #00d7ff; text-decoration-color: #00d7ff\">None</span>, <span style=\"color: #00af00; text-decoration-color: #00af00\">8</span>, <span style=\"color: #00af00; text-decoration-color: #00af00\">8</span>, <span style=\"color: #00af00; text-decoration-color: #00af00\">128</span>)           │          <span style=\"color: #00af00; text-decoration-color: #00af00\">73,856</span> │\n",
              "├──────────────────────────────────────┼─────────────────────────────┼─────────────────┤\n",
              "│ max_pooling2d_2 (<span style=\"color: #0087ff; text-decoration-color: #0087ff\">MaxPooling2D</span>)       │ (<span style=\"color: #00d7ff; text-decoration-color: #00d7ff\">None</span>, <span style=\"color: #00af00; text-decoration-color: #00af00\">4</span>, <span style=\"color: #00af00; text-decoration-color: #00af00\">4</span>, <span style=\"color: #00af00; text-decoration-color: #00af00\">128</span>)           │               <span style=\"color: #00af00; text-decoration-color: #00af00\">0</span> │\n",
              "├──────────────────────────────────────┼─────────────────────────────┼─────────────────┤\n",
              "│ flatten (<span style=\"color: #0087ff; text-decoration-color: #0087ff\">Flatten</span>)                    │ (<span style=\"color: #00d7ff; text-decoration-color: #00d7ff\">None</span>, <span style=\"color: #00af00; text-decoration-color: #00af00\">2048</span>)                │               <span style=\"color: #00af00; text-decoration-color: #00af00\">0</span> │\n",
              "├──────────────────────────────────────┼─────────────────────────────┼─────────────────┤\n",
              "│ dense (<span style=\"color: #0087ff; text-decoration-color: #0087ff\">Dense</span>)                        │ (<span style=\"color: #00d7ff; text-decoration-color: #00d7ff\">None</span>, <span style=\"color: #00af00; text-decoration-color: #00af00\">512</span>)                 │       <span style=\"color: #00af00; text-decoration-color: #00af00\">1,049,088</span> │\n",
              "├──────────────────────────────────────┼─────────────────────────────┼─────────────────┤\n",
              "│ dropout (<span style=\"color: #0087ff; text-decoration-color: #0087ff\">Dropout</span>)                    │ (<span style=\"color: #00d7ff; text-decoration-color: #00d7ff\">None</span>, <span style=\"color: #00af00; text-decoration-color: #00af00\">512</span>)                 │               <span style=\"color: #00af00; text-decoration-color: #00af00\">0</span> │\n",
              "├──────────────────────────────────────┼─────────────────────────────┼─────────────────┤\n",
              "│ dense_1 (<span style=\"color: #0087ff; text-decoration-color: #0087ff\">Dense</span>)                      │ (<span style=\"color: #00d7ff; text-decoration-color: #00d7ff\">None</span>, <span style=\"color: #00af00; text-decoration-color: #00af00\">100</span>)                 │          <span style=\"color: #00af00; text-decoration-color: #00af00\">51,300</span> │\n",
              "└──────────────────────────────────────┴─────────────────────────────┴─────────────────┘\n",
              "</pre>\n"
            ]
          },
          "metadata": {}
        },
        {
          "output_type": "display_data",
          "data": {
            "text/plain": [
              "\u001b[1m Total params: \u001b[0m\u001b[38;5;34m1,193,636\u001b[0m (4.55 MB)\n"
            ],
            "text/html": [
              "<pre style=\"white-space:pre;overflow-x:auto;line-height:normal;font-family:Menlo,'DejaVu Sans Mono',consolas,'Courier New',monospace\"><span style=\"font-weight: bold\"> Total params: </span><span style=\"color: #00af00; text-decoration-color: #00af00\">1,193,636</span> (4.55 MB)\n",
              "</pre>\n"
            ]
          },
          "metadata": {}
        },
        {
          "output_type": "display_data",
          "data": {
            "text/plain": [
              "\u001b[1m Trainable params: \u001b[0m\u001b[38;5;34m1,193,636\u001b[0m (4.55 MB)\n"
            ],
            "text/html": [
              "<pre style=\"white-space:pre;overflow-x:auto;line-height:normal;font-family:Menlo,'DejaVu Sans Mono',consolas,'Courier New',monospace\"><span style=\"font-weight: bold\"> Trainable params: </span><span style=\"color: #00af00; text-decoration-color: #00af00\">1,193,636</span> (4.55 MB)\n",
              "</pre>\n"
            ]
          },
          "metadata": {}
        },
        {
          "output_type": "display_data",
          "data": {
            "text/plain": [
              "\u001b[1m Non-trainable params: \u001b[0m\u001b[38;5;34m0\u001b[0m (0.00 B)\n"
            ],
            "text/html": [
              "<pre style=\"white-space:pre;overflow-x:auto;line-height:normal;font-family:Menlo,'DejaVu Sans Mono',consolas,'Courier New',monospace\"><span style=\"font-weight: bold\"> Non-trainable params: </span><span style=\"color: #00af00; text-decoration-color: #00af00\">0</span> (0.00 B)\n",
              "</pre>\n"
            ]
          },
          "metadata": {}
        }
      ],
      "source": [
        "from keras.models import Sequential\n",
        "from keras.layers import Conv2D, MaxPooling2D, Flatten, Dense, Dropout\n",
        "\n",
        "# Define CNN model\n",
        "model = Sequential()\n",
        "\n",
        "# 1st Convolutional Layer\n",
        "model.add(Conv2D(32, (3, 3), activation='relu', input_shape=(32, 32, 3), padding='same'))\n",
        "model.add(MaxPooling2D(pool_size=(2, 2)))\n",
        "\n",
        "# 2nd Convolutional Layer\n",
        "model.add(Conv2D(64, (3, 3), activation='relu', padding='same'))\n",
        "model.add(MaxPooling2D(pool_size=(2, 2)))\n",
        "\n",
        "# 3rd Convolutional Layer\n",
        "model.add(Conv2D(128, (3, 3), activation='relu', padding='same'))\n",
        "model.add(MaxPooling2D(pool_size=(2, 2)))\n",
        "\n",
        "# Flatten the output of the convolutional layers\n",
        "model.add(Flatten())\n",
        "\n",
        "# 1st Dense Layer\n",
        "model.add(Dense(512, activation='relu'))\n",
        "model.add(Dropout(0.5))  # Dropout to prevent overfitting\n",
        "\n",
        "# Output Layer (100 classes for CIFAR-100)\n",
        "model.add(Dense(100, activation='softmax'))\n",
        "\n",
        "# Print the model summary\n",
        "model.summary()\n"
      ]
    },
    {
      "cell_type": "markdown",
      "id": "546324c007c73db5",
      "metadata": {
        "collapsed": false,
        "id": "546324c007c73db5"
      },
      "source": [
        "### Task 2b: Compile the model\n",
        "\n",
        "- Select an appropriate loss function and optimizer for your model. These can be ones we have looked at already, or they can be different.\n",
        "- Briefly explain your choices (one or two sentences each).\n",
        "- <b>Loss function:</b> ______\n",
        "- <b>Optimizer:</b> ______"
      ]
    },
    {
      "cell_type": "code",
      "execution_count": 9,
      "id": "ab39f4ba69d684e9",
      "metadata": {
        "colab": {
          "base_uri": "https://localhost:8080/",
          "height": 449
        },
        "id": "ab39f4ba69d684e9",
        "outputId": "f2903f7e-a1d0-4dd3-bacc-11376ed41478"
      },
      "outputs": [
        {
          "output_type": "display_data",
          "data": {
            "text/plain": [
              "\u001b[1mModel: \"sequential_1\"\u001b[0m\n"
            ],
            "text/html": [
              "<pre style=\"white-space:pre;overflow-x:auto;line-height:normal;font-family:Menlo,'DejaVu Sans Mono',consolas,'Courier New',monospace\"><span style=\"font-weight: bold\">Model: \"sequential_1\"</span>\n",
              "</pre>\n"
            ]
          },
          "metadata": {}
        },
        {
          "output_type": "display_data",
          "data": {
            "text/plain": [
              "┏━━━━━━━━━━━━━━━━━━━━━━━━━━━━━━━━━━━━━━┳━━━━━━━━━━━━━━━━━━━━━━━━━━━━━┳━━━━━━━━━━━━━━━━━┓\n",
              "┃\u001b[1m \u001b[0m\u001b[1mLayer (type)                        \u001b[0m\u001b[1m \u001b[0m┃\u001b[1m \u001b[0m\u001b[1mOutput Shape               \u001b[0m\u001b[1m \u001b[0m┃\u001b[1m \u001b[0m\u001b[1m        Param #\u001b[0m\u001b[1m \u001b[0m┃\n",
              "┡━━━━━━━━━━━━━━━━━━━━━━━━━━━━━━━━━━━━━━╇━━━━━━━━━━━━━━━━━━━━━━━━━━━━━╇━━━━━━━━━━━━━━━━━┩\n",
              "│ conv2d_3 (\u001b[38;5;33mConv2D\u001b[0m)                    │ (\u001b[38;5;45mNone\u001b[0m, \u001b[38;5;34m32\u001b[0m, \u001b[38;5;34m32\u001b[0m, \u001b[38;5;34m32\u001b[0m)          │             \u001b[38;5;34m896\u001b[0m │\n",
              "├──────────────────────────────────────┼─────────────────────────────┼─────────────────┤\n",
              "│ max_pooling2d_3 (\u001b[38;5;33mMaxPooling2D\u001b[0m)       │ (\u001b[38;5;45mNone\u001b[0m, \u001b[38;5;34m16\u001b[0m, \u001b[38;5;34m16\u001b[0m, \u001b[38;5;34m32\u001b[0m)          │               \u001b[38;5;34m0\u001b[0m │\n",
              "├──────────────────────────────────────┼─────────────────────────────┼─────────────────┤\n",
              "│ conv2d_4 (\u001b[38;5;33mConv2D\u001b[0m)                    │ (\u001b[38;5;45mNone\u001b[0m, \u001b[38;5;34m16\u001b[0m, \u001b[38;5;34m16\u001b[0m, \u001b[38;5;34m64\u001b[0m)          │          \u001b[38;5;34m18,496\u001b[0m │\n",
              "├──────────────────────────────────────┼─────────────────────────────┼─────────────────┤\n",
              "│ max_pooling2d_4 (\u001b[38;5;33mMaxPooling2D\u001b[0m)       │ (\u001b[38;5;45mNone\u001b[0m, \u001b[38;5;34m8\u001b[0m, \u001b[38;5;34m8\u001b[0m, \u001b[38;5;34m64\u001b[0m)            │               \u001b[38;5;34m0\u001b[0m │\n",
              "├──────────────────────────────────────┼─────────────────────────────┼─────────────────┤\n",
              "│ conv2d_5 (\u001b[38;5;33mConv2D\u001b[0m)                    │ (\u001b[38;5;45mNone\u001b[0m, \u001b[38;5;34m8\u001b[0m, \u001b[38;5;34m8\u001b[0m, \u001b[38;5;34m128\u001b[0m)           │          \u001b[38;5;34m73,856\u001b[0m │\n",
              "├──────────────────────────────────────┼─────────────────────────────┼─────────────────┤\n",
              "│ max_pooling2d_5 (\u001b[38;5;33mMaxPooling2D\u001b[0m)       │ (\u001b[38;5;45mNone\u001b[0m, \u001b[38;5;34m4\u001b[0m, \u001b[38;5;34m4\u001b[0m, \u001b[38;5;34m128\u001b[0m)           │               \u001b[38;5;34m0\u001b[0m │\n",
              "├──────────────────────────────────────┼─────────────────────────────┼─────────────────┤\n",
              "│ flatten_1 (\u001b[38;5;33mFlatten\u001b[0m)                  │ (\u001b[38;5;45mNone\u001b[0m, \u001b[38;5;34m2048\u001b[0m)                │               \u001b[38;5;34m0\u001b[0m │\n",
              "├──────────────────────────────────────┼─────────────────────────────┼─────────────────┤\n",
              "│ dense_2 (\u001b[38;5;33mDense\u001b[0m)                      │ (\u001b[38;5;45mNone\u001b[0m, \u001b[38;5;34m512\u001b[0m)                 │       \u001b[38;5;34m1,049,088\u001b[0m │\n",
              "├──────────────────────────────────────┼─────────────────────────────┼─────────────────┤\n",
              "│ dropout_1 (\u001b[38;5;33mDropout\u001b[0m)                  │ (\u001b[38;5;45mNone\u001b[0m, \u001b[38;5;34m512\u001b[0m)                 │               \u001b[38;5;34m0\u001b[0m │\n",
              "├──────────────────────────────────────┼─────────────────────────────┼─────────────────┤\n",
              "│ dense_3 (\u001b[38;5;33mDense\u001b[0m)                      │ (\u001b[38;5;45mNone\u001b[0m, \u001b[38;5;34m100\u001b[0m)                 │          \u001b[38;5;34m51,300\u001b[0m │\n",
              "└──────────────────────────────────────┴─────────────────────────────┴─────────────────┘\n"
            ],
            "text/html": [
              "<pre style=\"white-space:pre;overflow-x:auto;line-height:normal;font-family:Menlo,'DejaVu Sans Mono',consolas,'Courier New',monospace\">┏━━━━━━━━━━━━━━━━━━━━━━━━━━━━━━━━━━━━━━┳━━━━━━━━━━━━━━━━━━━━━━━━━━━━━┳━━━━━━━━━━━━━━━━━┓\n",
              "┃<span style=\"font-weight: bold\"> Layer (type)                         </span>┃<span style=\"font-weight: bold\"> Output Shape                </span>┃<span style=\"font-weight: bold\">         Param # </span>┃\n",
              "┡━━━━━━━━━━━━━━━━━━━━━━━━━━━━━━━━━━━━━━╇━━━━━━━━━━━━━━━━━━━━━━━━━━━━━╇━━━━━━━━━━━━━━━━━┩\n",
              "│ conv2d_3 (<span style=\"color: #0087ff; text-decoration-color: #0087ff\">Conv2D</span>)                    │ (<span style=\"color: #00d7ff; text-decoration-color: #00d7ff\">None</span>, <span style=\"color: #00af00; text-decoration-color: #00af00\">32</span>, <span style=\"color: #00af00; text-decoration-color: #00af00\">32</span>, <span style=\"color: #00af00; text-decoration-color: #00af00\">32</span>)          │             <span style=\"color: #00af00; text-decoration-color: #00af00\">896</span> │\n",
              "├──────────────────────────────────────┼─────────────────────────────┼─────────────────┤\n",
              "│ max_pooling2d_3 (<span style=\"color: #0087ff; text-decoration-color: #0087ff\">MaxPooling2D</span>)       │ (<span style=\"color: #00d7ff; text-decoration-color: #00d7ff\">None</span>, <span style=\"color: #00af00; text-decoration-color: #00af00\">16</span>, <span style=\"color: #00af00; text-decoration-color: #00af00\">16</span>, <span style=\"color: #00af00; text-decoration-color: #00af00\">32</span>)          │               <span style=\"color: #00af00; text-decoration-color: #00af00\">0</span> │\n",
              "├──────────────────────────────────────┼─────────────────────────────┼─────────────────┤\n",
              "│ conv2d_4 (<span style=\"color: #0087ff; text-decoration-color: #0087ff\">Conv2D</span>)                    │ (<span style=\"color: #00d7ff; text-decoration-color: #00d7ff\">None</span>, <span style=\"color: #00af00; text-decoration-color: #00af00\">16</span>, <span style=\"color: #00af00; text-decoration-color: #00af00\">16</span>, <span style=\"color: #00af00; text-decoration-color: #00af00\">64</span>)          │          <span style=\"color: #00af00; text-decoration-color: #00af00\">18,496</span> │\n",
              "├──────────────────────────────────────┼─────────────────────────────┼─────────────────┤\n",
              "│ max_pooling2d_4 (<span style=\"color: #0087ff; text-decoration-color: #0087ff\">MaxPooling2D</span>)       │ (<span style=\"color: #00d7ff; text-decoration-color: #00d7ff\">None</span>, <span style=\"color: #00af00; text-decoration-color: #00af00\">8</span>, <span style=\"color: #00af00; text-decoration-color: #00af00\">8</span>, <span style=\"color: #00af00; text-decoration-color: #00af00\">64</span>)            │               <span style=\"color: #00af00; text-decoration-color: #00af00\">0</span> │\n",
              "├──────────────────────────────────────┼─────────────────────────────┼─────────────────┤\n",
              "│ conv2d_5 (<span style=\"color: #0087ff; text-decoration-color: #0087ff\">Conv2D</span>)                    │ (<span style=\"color: #00d7ff; text-decoration-color: #00d7ff\">None</span>, <span style=\"color: #00af00; text-decoration-color: #00af00\">8</span>, <span style=\"color: #00af00; text-decoration-color: #00af00\">8</span>, <span style=\"color: #00af00; text-decoration-color: #00af00\">128</span>)           │          <span style=\"color: #00af00; text-decoration-color: #00af00\">73,856</span> │\n",
              "├──────────────────────────────────────┼─────────────────────────────┼─────────────────┤\n",
              "│ max_pooling2d_5 (<span style=\"color: #0087ff; text-decoration-color: #0087ff\">MaxPooling2D</span>)       │ (<span style=\"color: #00d7ff; text-decoration-color: #00d7ff\">None</span>, <span style=\"color: #00af00; text-decoration-color: #00af00\">4</span>, <span style=\"color: #00af00; text-decoration-color: #00af00\">4</span>, <span style=\"color: #00af00; text-decoration-color: #00af00\">128</span>)           │               <span style=\"color: #00af00; text-decoration-color: #00af00\">0</span> │\n",
              "├──────────────────────────────────────┼─────────────────────────────┼─────────────────┤\n",
              "│ flatten_1 (<span style=\"color: #0087ff; text-decoration-color: #0087ff\">Flatten</span>)                  │ (<span style=\"color: #00d7ff; text-decoration-color: #00d7ff\">None</span>, <span style=\"color: #00af00; text-decoration-color: #00af00\">2048</span>)                │               <span style=\"color: #00af00; text-decoration-color: #00af00\">0</span> │\n",
              "├──────────────────────────────────────┼─────────────────────────────┼─────────────────┤\n",
              "│ dense_2 (<span style=\"color: #0087ff; text-decoration-color: #0087ff\">Dense</span>)                      │ (<span style=\"color: #00d7ff; text-decoration-color: #00d7ff\">None</span>, <span style=\"color: #00af00; text-decoration-color: #00af00\">512</span>)                 │       <span style=\"color: #00af00; text-decoration-color: #00af00\">1,049,088</span> │\n",
              "├──────────────────────────────────────┼─────────────────────────────┼─────────────────┤\n",
              "│ dropout_1 (<span style=\"color: #0087ff; text-decoration-color: #0087ff\">Dropout</span>)                  │ (<span style=\"color: #00d7ff; text-decoration-color: #00d7ff\">None</span>, <span style=\"color: #00af00; text-decoration-color: #00af00\">512</span>)                 │               <span style=\"color: #00af00; text-decoration-color: #00af00\">0</span> │\n",
              "├──────────────────────────────────────┼─────────────────────────────┼─────────────────┤\n",
              "│ dense_3 (<span style=\"color: #0087ff; text-decoration-color: #0087ff\">Dense</span>)                      │ (<span style=\"color: #00d7ff; text-decoration-color: #00d7ff\">None</span>, <span style=\"color: #00af00; text-decoration-color: #00af00\">100</span>)                 │          <span style=\"color: #00af00; text-decoration-color: #00af00\">51,300</span> │\n",
              "└──────────────────────────────────────┴─────────────────────────────┴─────────────────┘\n",
              "</pre>\n"
            ]
          },
          "metadata": {}
        },
        {
          "output_type": "display_data",
          "data": {
            "text/plain": [
              "\u001b[1m Total params: \u001b[0m\u001b[38;5;34m1,193,636\u001b[0m (4.55 MB)\n"
            ],
            "text/html": [
              "<pre style=\"white-space:pre;overflow-x:auto;line-height:normal;font-family:Menlo,'DejaVu Sans Mono',consolas,'Courier New',monospace\"><span style=\"font-weight: bold\"> Total params: </span><span style=\"color: #00af00; text-decoration-color: #00af00\">1,193,636</span> (4.55 MB)\n",
              "</pre>\n"
            ]
          },
          "metadata": {}
        },
        {
          "output_type": "display_data",
          "data": {
            "text/plain": [
              "\u001b[1m Trainable params: \u001b[0m\u001b[38;5;34m1,193,636\u001b[0m (4.55 MB)\n"
            ],
            "text/html": [
              "<pre style=\"white-space:pre;overflow-x:auto;line-height:normal;font-family:Menlo,'DejaVu Sans Mono',consolas,'Courier New',monospace\"><span style=\"font-weight: bold\"> Trainable params: </span><span style=\"color: #00af00; text-decoration-color: #00af00\">1,193,636</span> (4.55 MB)\n",
              "</pre>\n"
            ]
          },
          "metadata": {}
        },
        {
          "output_type": "display_data",
          "data": {
            "text/plain": [
              "\u001b[1m Non-trainable params: \u001b[0m\u001b[38;5;34m0\u001b[0m (0.00 B)\n"
            ],
            "text/html": [
              "<pre style=\"white-space:pre;overflow-x:auto;line-height:normal;font-family:Menlo,'DejaVu Sans Mono',consolas,'Courier New',monospace\"><span style=\"font-weight: bold\"> Non-trainable params: </span><span style=\"color: #00af00; text-decoration-color: #00af00\">0</span> (0.00 B)\n",
              "</pre>\n"
            ]
          },
          "metadata": {}
        }
      ],
      "source": [
        "from keras import optimizers\n",
        "from keras.models import Sequential\n",
        "from keras.layers import Conv2D, MaxPooling2D, Flatten, Dense, Dropout\n",
        "\n",
        "# Define CNN model\n",
        "model = Sequential()\n",
        "\n",
        "# Add convolutional layers, max pooling layers, and dense layers\n",
        "model.add(Conv2D(32, (3, 3), activation='relu', input_shape=(32, 32, 3), padding='same'))\n",
        "model.add(MaxPooling2D(pool_size=(2, 2)))\n",
        "model.add(Conv2D(64, (3, 3), activation='relu', padding='same'))\n",
        "model.add(MaxPooling2D(pool_size=(2, 2)))\n",
        "model.add(Conv2D(128, (3, 3), activation='relu', padding='same'))\n",
        "model.add(MaxPooling2D(pool_size=(2, 2)))\n",
        "model.add(Flatten())\n",
        "model.add(Dense(512, activation='relu'))\n",
        "model.add(Dropout(0.5))\n",
        "model.add(Dense(100, activation='softmax'))\n",
        "\n",
        "# Compile model\n",
        "model.compile(\n",
        "    loss='categorical_crossentropy',  # Loss function\n",
        "    optimizer=optimizers.Adam(learning_rate=0.001),  # Optimizer\n",
        "    metrics=['accuracy']\n",
        ")\n",
        "\n",
        "# Print model summary\n",
        "model.summary()\n"
      ]
    },
    {
      "cell_type": "markdown",
      "id": "653fba928413b9f6",
      "metadata": {
        "collapsed": false,
        "id": "653fba928413b9f6"
      },
      "source": [
        "## Task 3: Model Training and Evaluation (Complete or Incomplete)\n",
        "### Task 3a: Train the Model\n",
        "\n",
        "- Train your model for an appropriate number of epochs. Explain your choice of the number of epochs used - you can change this number before submitting your assignment.\n",
        "- Use a batch size of 32.\n",
        "- Use the validation set for validation."
      ]
    },
    {
      "cell_type": "code",
      "execution_count": 10,
      "id": "9de74f274ad08546",
      "metadata": {
        "colab": {
          "base_uri": "https://localhost:8080/"
        },
        "id": "9de74f274ad08546",
        "outputId": "122322e8-1bf6-4b26-f28d-7fde07ab2f04"
      },
      "outputs": [
        {
          "output_type": "stream",
          "name": "stdout",
          "text": [
            "Epoch 1/20\n",
            "1250/1250 - 11s - 9ms/step - accuracy: 0.0843 - loss: 4.0020 - val_accuracy: 0.1679 - val_loss: 3.4701\n",
            "Epoch 2/20\n",
            "1250/1250 - 4s - 3ms/step - accuracy: 0.1928 - loss: 3.3338 - val_accuracy: 0.2776 - val_loss: 2.9696\n",
            "Epoch 3/20\n",
            "1250/1250 - 4s - 3ms/step - accuracy: 0.2680 - loss: 2.9430 - val_accuracy: 0.3328 - val_loss: 2.6842\n",
            "Epoch 4/20\n",
            "1250/1250 - 5s - 4ms/step - accuracy: 0.3228 - loss: 2.6686 - val_accuracy: 0.3501 - val_loss: 2.5717\n",
            "Epoch 5/20\n",
            "1250/1250 - 4s - 3ms/step - accuracy: 0.3636 - loss: 2.4687 - val_accuracy: 0.3711 - val_loss: 2.4378\n",
            "Epoch 6/20\n",
            "1250/1250 - 6s - 5ms/step - accuracy: 0.3995 - loss: 2.2954 - val_accuracy: 0.3875 - val_loss: 2.3783\n",
            "Epoch 7/20\n",
            "1250/1250 - 4s - 4ms/step - accuracy: 0.4305 - loss: 2.1340 - val_accuracy: 0.3995 - val_loss: 2.3462\n",
            "Epoch 8/20\n",
            "1250/1250 - 5s - 4ms/step - accuracy: 0.4663 - loss: 1.9789 - val_accuracy: 0.4042 - val_loss: 2.3334\n",
            "Epoch 9/20\n",
            "1250/1250 - 5s - 4ms/step - accuracy: 0.4925 - loss: 1.8485 - val_accuracy: 0.4124 - val_loss: 2.3094\n",
            "Epoch 10/20\n",
            "1250/1250 - 4s - 3ms/step - accuracy: 0.5195 - loss: 1.7320 - val_accuracy: 0.4080 - val_loss: 2.3591\n",
            "Epoch 11/20\n",
            "1250/1250 - 5s - 4ms/step - accuracy: 0.5457 - loss: 1.6080 - val_accuracy: 0.4123 - val_loss: 2.4240\n",
            "Epoch 12/20\n",
            "1250/1250 - 4s - 3ms/step - accuracy: 0.5736 - loss: 1.4960 - val_accuracy: 0.4045 - val_loss: 2.4883\n",
            "Epoch 13/20\n",
            "1250/1250 - 5s - 4ms/step - accuracy: 0.5985 - loss: 1.3930 - val_accuracy: 0.4047 - val_loss: 2.5277\n",
            "Epoch 14/20\n",
            "1250/1250 - 6s - 5ms/step - accuracy: 0.6171 - loss: 1.3123 - val_accuracy: 0.4021 - val_loss: 2.6074\n",
            "Epoch 15/20\n",
            "1250/1250 - 3s - 3ms/step - accuracy: 0.6358 - loss: 1.2361 - val_accuracy: 0.4038 - val_loss: 2.6130\n",
            "Epoch 16/20\n",
            "1250/1250 - 4s - 3ms/step - accuracy: 0.6587 - loss: 1.1469 - val_accuracy: 0.4041 - val_loss: 2.7186\n",
            "Epoch 17/20\n",
            "1250/1250 - 4s - 3ms/step - accuracy: 0.6680 - loss: 1.1060 - val_accuracy: 0.4055 - val_loss: 2.7917\n",
            "Epoch 18/20\n",
            "1250/1250 - 5s - 4ms/step - accuracy: 0.6894 - loss: 1.0276 - val_accuracy: 0.4006 - val_loss: 2.8707\n",
            "Epoch 19/20\n",
            "1250/1250 - 3s - 3ms/step - accuracy: 0.7024 - loss: 0.9778 - val_accuracy: 0.4101 - val_loss: 2.9553\n",
            "Epoch 20/20\n",
            "1250/1250 - 5s - 4ms/step - accuracy: 0.7142 - loss: 0.9327 - val_accuracy: 0.4043 - val_loss: 3.0091\n"
          ]
        }
      ],
      "source": [
        "# Train model\n",
        "history = model.fit(\n",
        "    x=x_train,  # Training data\n",
        "    y=y_train,  # Training labels\n",
        "    validation_data=(x_val, y_val),  # Validation data\n",
        "    epochs=20,  # Number of epochs\n",
        "    batch_size=32,  # Batch size\n",
        "    verbose=2  # Display training progress\n",
        ")\n"
      ]
    },
    {
      "cell_type": "markdown",
      "id": "b48615c26b99d2e9",
      "metadata": {
        "collapsed": false,
        "id": "b48615c26b99d2e9"
      },
      "source": [
        "### Task 3b: Accuracy and other relevant metrics on the test set\n",
        "\n",
        "- Report the accuracy of your model on the test set.\n",
        "- While accuracy is a good metric, there are many other ways to numerically evaluate a model. Report at least one other metric, and explain what it measures and how it is calculated.\n",
        "\n",
        "- <b>Accuracy:</b> ______\n",
        "- <b>Other metric:</b> ______\n",
        "- <b>Reason for selection:</b> _____\n",
        "- <b>Value of metric:</b> ______\n",
        "- <b>Interpretation of metric value:</b> ______"
      ]
    },
    {
      "cell_type": "code",
      "execution_count": 11,
      "id": "f670665fda92fb0e",
      "metadata": {
        "ExecuteTime": {
          "end_time": "2024-01-26T17:49:39.016880Z",
          "start_time": "2024-01-26T17:49:39.012100Z"
        },
        "colab": {
          "base_uri": "https://localhost:8080/"
        },
        "id": "f670665fda92fb0e",
        "outputId": "c6b5f570-8077-48ec-eadc-1cf1e036e16e"
      },
      "outputs": [
        {
          "output_type": "stream",
          "name": "stdout",
          "text": [
            "313/313 - 0s - 2ms/step - accuracy: 0.4079 - loss: 2.9696\n",
            "\u001b[1m313/313\u001b[0m \u001b[32m━━━━━━━━━━━━━━━━━━━━\u001b[0m\u001b[37m\u001b[0m \u001b[1m1s\u001b[0m 2ms/step\n",
            "Accuracy: 0.4079\n",
            "Mean IoU: 0.2694\n"
          ]
        }
      ],
      "source": [
        "# Evaluate model on test set\n",
        "test_loss, test_accuracy = model.evaluate(x_test, y_test, verbose=2)\n",
        "\n",
        "# Report Accuracy\n",
        "accuracy = test_accuracy\n",
        "\n",
        "# Choose another metric - Mean IoU\n",
        "from sklearn.metrics import jaccard_score\n",
        "import numpy as np\n",
        "\n",
        "# Calculate Mean IoU for each class and average them\n",
        "y_test_true = np.argmax(y_test, axis=1)\n",
        "y_test_pred = np.argmax(model.predict(x_test), axis=1)\n",
        "\n",
        "# Calculate IoU for each class\n",
        "iou_per_class = []\n",
        "for i in range(100):\n",
        "    iou = jaccard_score(y_test_true == i, y_test_pred == i, average='binary')\n",
        "    iou_per_class.append(iou)\n",
        "\n",
        "mean_iou = np.mean(iou_per_class)\n",
        "\n",
        "# Output results\n",
        "print(f\"Accuracy: {accuracy:.4f}\")\n",
        "print(f\"Mean IoU: {mean_iou:.4f}\")\n"
      ]
    },
    {
      "cell_type": "markdown",
      "id": "58d2d836d4e8ce99",
      "metadata": {
        "collapsed": false,
        "id": "58d2d836d4e8ce99"
      },
      "source": [
        "### Task 3c: Visualize the model's learning\n",
        "\n",
        "- Plot the training accuracy and validation accuracy with respect to epochs.\n",
        "- Select an image that the model correctly classified in the test set, and an image that the model incorrectly classified in the test set. Plot the images and report the model's classification probabilities for each.\n",
        "- Briefly discuss the results. What do the plots show? Do the results make sense? What do the classification probabilities indicate?"
      ]
    },
    {
      "cell_type": "code",
      "execution_count": 12,
      "id": "c5b214475a496ca5",
      "metadata": {
        "ExecuteTime": {
          "end_time": "2024-01-26T17:50:59.733968Z",
          "start_time": "2024-01-26T17:50:59.730635Z"
        },
        "colab": {
          "base_uri": "https://localhost:8080/",
          "height": 564
        },
        "id": "c5b214475a496ca5",
        "outputId": "fa06d17f-7997-44ed-9e91-b1ca6ade9809"
      },
      "outputs": [
        {
          "output_type": "display_data",
          "data": {
            "text/plain": [
              "<Figure size 800x600 with 1 Axes>"
            ],
            "image/png": "[encoded data removed]"
          },
          "metadata": {}
        }
      ],
      "source": [
        "import matplotlib.pyplot as plt\n",
        "\n",
        "# Plot training & validation accuracy\n",
        "plt.figure(figsize=(8, 6))\n",
        "plt.plot(history.history['accuracy'], label='Training Accuracy')\n",
        "plt.plot(history.history['val_accuracy'], label='Validation Accuracy')\n",
        "plt.title('Training and Validation Accuracy over Epochs')\n",
        "plt.xlabel('Epochs')\n",
        "plt.ylabel('Accuracy')\n",
        "plt.legend()\n",
        "plt.show()\n"
      ]
    },
    {
      "cell_type": "code",
      "execution_count": 13,
      "id": "441995e3",
      "metadata": {
        "colab": {
          "base_uri": "https://localhost:8080/",
          "height": 1000
        },
        "id": "441995e3",
        "outputId": "0efaa82f-349a-4a89-b829-5b7b2cfeace4"
      },
      "outputs": [
        {
          "output_type": "stream",
          "name": "stdout",
          "text": [
            "\u001b[1m313/313\u001b[0m \u001b[32m━━━━━━━━━━━━━━━━━━━━\u001b[0m\u001b[37m\u001b[0m \u001b[1m0s\u001b[0m 2ms/step\n"
          ]
        },
        {
          "output_type": "display_data",
          "data": {
            "text/plain": [
              "<Figure size 1200x600 with 2 Axes>"
            ],
            "image/png": "[encoded data removed]"
          },
          "metadata": {}
        },
        {
          "output_type": "stream",
          "name": "stdout",
          "text": [
            "Correctly classified image probabilities:\n",
            "[8.4398266e-11 3.1890895e-07 1.4919381e-08 1.2339253e-06 9.7902358e-08\n",
            " 3.1865582e-08 1.9703371e-10 3.6131806e-11 6.4487394e-05 1.1078991e-05\n",
            " 2.4639115e-09 1.7855072e-08 7.5258497e-05 3.1561405e-05 1.9978195e-09\n",
            " 7.2752817e-05 6.8400169e-07 4.6654124e-05 7.7256561e-07 1.8179352e-06\n",
            " 5.1660781e-10 3.1912919e-07 6.5175747e-08 5.5534247e-08 5.7134968e-14\n",
            " 3.5223782e-06 5.8598122e-09 3.0816176e-05 1.9130129e-09 2.8244929e-05\n",
            " 3.4858361e-10 7.0243125e-04 6.1102031e-07 9.7418404e-01 1.7960657e-07\n",
            " 2.7132305e-07 3.4209593e-09 2.3766274e-03 7.1738400e-06 1.6237691e-06\n",
            " 8.4534736e-07 2.3093567e-09 1.5600028e-05 8.5239648e-08 4.0463470e-07\n",
            " 2.0369627e-07 1.3460876e-06 1.8928122e-06 5.0581841e-09 3.7958605e-06\n",
            " 2.7752802e-07 1.2454584e-04 2.8189575e-07 1.8247732e-12 7.0835370e-08\n",
            " 4.7667727e-06 3.6501652e-04 9.7205111e-07 3.4536811e-07 1.0777942e-03\n",
            " 1.0561609e-07 2.3908580e-09 2.0502315e-12 6.1986408e-05 4.2440533e-06\n",
            " 1.9446506e-04 1.5486512e-05 3.2279511e-06 1.0701327e-04 7.9323934e-09\n",
            " 1.0015429e-11 2.1491042e-08 4.2629702e-07 3.3560707e-06 1.1134784e-06\n",
            " 2.1236832e-10 1.3091441e-05 5.4705605e-08 3.3956451e-09 4.3051191e-06\n",
            " 4.1181248e-04 1.8121053e-04 1.8945945e-10 1.2022132e-08 1.3096575e-05\n",
            " 8.1019989e-06 3.9547340e-10 8.6730395e-08 2.3650948e-06 7.5700977e-05\n",
            " 1.7307821e-05 1.1944450e-05 1.5665220e-09 1.0840359e-07 2.4765008e-09\n",
            " 4.3329290e-12 1.8892687e-02 7.3560828e-04 6.2442846e-09 2.9759603e-08]\n",
            "\n",
            "Incorrectly classified image probabilities:\n",
            "[2.12855830e-10 8.97393838e-05 2.63726251e-04 1.24511390e-03\n",
            " 3.64583335e-03 2.34425897e-04 1.13337388e-04 7.99238205e-06\n",
            " 2.60953311e-05 6.98765652e-05 4.81126553e-05 6.12692616e-04\n",
            " 5.58837596e-03 6.20706351e-06 1.08949607e-07 1.98959326e-03\n",
            " 2.04971252e-06 3.52789387e-02 6.35768520e-04 1.73068751e-04\n",
            " 2.28684206e-04 5.92228243e-05 7.56938448e-07 1.47879580e-02\n",
            " 7.00606324e-04 1.60475262e-04 1.08534389e-03 3.77610122e-04\n",
            " 6.68283565e-06 1.14813475e-02 2.72919714e-01 3.07429931e-04\n",
            " 3.05903872e-04 5.31990518e-05 1.15660638e-04 1.30740358e-04\n",
            " 6.10340867e-05 3.10240174e-03 2.11869366e-04 6.58099959e-03\n",
            " 8.60519055e-03 4.34565983e-08 1.32407877e-03 2.42260012e-06\n",
            " 1.61911431e-03 1.76345609e-04 7.85477273e-03 4.15592040e-05\n",
            " 6.43751491e-07 2.23602206e-01 1.13288479e-05 1.62439933e-03\n",
            " 2.64544120e-08 2.27812187e-08 4.18398449e-05 1.98040232e-02\n",
            " 4.83810389e-03 6.19539207e-07 2.42867627e-05 1.54660607e-03\n",
            " 4.09837958e-04 1.05350284e-06 6.80351491e-07 1.25016331e-05\n",
            " 9.25499037e-08 3.06733928e-05 1.30512180e-05 1.08938292e-03\n",
            " 1.24564441e-02 3.31106782e-02 1.93182530e-07 2.28144377e-02\n",
            " 1.35261146e-02 8.27680156e-03 3.48157511e-04 3.18550946e-07\n",
            " 1.65306300e-01 2.30286987e-05 2.47615735e-05 3.39364610e-03\n",
            " 9.23279440e-04 8.86877478e-06 6.32886542e-04 3.11136383e-09\n",
            " 4.06326464e-04 5.75818471e-04 4.01157331e-06 1.67318194e-06\n",
            " 8.00602891e-08 7.04391198e-07 2.65482953e-03 3.98843375e-04\n",
            " 8.71209977e-07 1.08686963e-03 2.02255947e-07 9.76686254e-02\n",
            " 1.68438164e-05 4.01057536e-04 5.21719048e-04 3.20014369e-05]\n"
          ]
        }
      ],
      "source": [
        "import numpy as np\n",
        "\n",
        "# Get predictions for test set\n",
        "y_pred = model.predict(x_test)\n",
        "\n",
        "# Find one correctly classified image (predicted class is equal to true class)\n",
        "correct_idx = np.where(np.argmax(y_pred, axis=1) == np.argmax(y_test, axis=1))[0][0]\n",
        "\n",
        "# Find one incorrectly classified image (predicted class is different from true class)\n",
        "incorrect_idx = np.where(np.argmax(y_pred, axis=1) != np.argmax(y_test, axis=1))[0][0]\n",
        "\n",
        "# Plot correctly classified image\n",
        "plt.figure(figsize=(12, 6))\n",
        "\n",
        "plt.subplot(1, 2, 1)\n",
        "plt.imshow(x_test[correct_idx])\n",
        "plt.title(f\"Correctly Classified\\nPredicted: {np.argmax(y_pred[correct_idx])}, Actual: {np.argmax(y_test[correct_idx])}\")\n",
        "plt.axis('off')\n",
        "\n",
        "# Plot incorrectly classified image\n",
        "plt.subplot(1, 2, 2)\n",
        "plt.imshow(x_test[incorrect_idx])\n",
        "plt.title(f\"Incorrectly Classified\\nPredicted: {np.argmax(y_pred[incorrect_idx])}, Actual: {np.argmax(y_test[incorrect_idx])}\")\n",
        "plt.axis('off')\n",
        "\n",
        "plt.show()\n",
        "\n",
        "# Report classification probabilities for both images\n",
        "print(\"Correctly classified image probabilities:\")\n",
        "print(y_pred[correct_idx])\n",
        "\n",
        "print(\"\\nIncorrectly classified image probabilities:\")\n",
        "print(y_pred[incorrect_idx])\n"
      ]
    },
    {
      "cell_type": "markdown",
      "id": "a648758ebea0561d",
      "metadata": {
        "collapsed": false,
        "id": "a648758ebea0561d"
      },
      "source": [
        "## Task 4: Model Enhancement (Complete or Incomplete)\n",
        "### Task 4a: Implementation of at least one advanced technique\n",
        "\n",
        "- Now it's time to improve your model. Implement at least one technique to improve your model's performance. You can use any of the techniques we have covered in class, or you can use a technique that we haven't covered. If you need inspiration, you can refer to the [Keras documentation](https://keras.io/).\n",
        "- Explain the technique you used and why you chose it.\n",
        "- If you used a technique that requires tuning, explain how you selected the values for the hyperparameters."
      ]
    },
    {
      "cell_type": "code",
      "execution_count": 14,
      "id": "f3659ac83122567f",
      "metadata": {
        "colab": {
          "base_uri": "https://localhost:8080/"
        },
        "id": "f3659ac83122567f",
        "outputId": "85728b90-531a-4dc8-dace-538c9339a721"
      },
      "outputs": [
        {
          "output_type": "stream",
          "name": "stdout",
          "text": [
            "Epoch 1/20\n"
          ]
        },
        {
          "output_type": "stream",
          "name": "stderr",
          "text": [
            "/usr/local/lib/python3.10/dist-packages/keras/src/layers/convolutional/base_conv.py:107: UserWarning: Do not pass an `input_shape`/`input_dim` argument to a layer. When using Sequential models, prefer using an `Input(shape)` object as the first layer in the model instead.\n",
            "  super().__init__(activity_regularizer=activity_regularizer, **kwargs)\n",
            "/usr/local/lib/python3.10/dist-packages/keras/src/trainers/data_adapters/py_dataset_adapter.py:122: UserWarning: Your `PyDataset` class should call `super().__init__(**kwargs)` in its constructor. `**kwargs` can include `workers`, `use_multiprocessing`, `max_queue_size`. Do not pass these arguments to `fit()`, as they will be ignored.\n",
            "  self._warn_if_super_not_called()\n"
          ]
        },
        {
          "output_type": "stream",
          "name": "stdout",
          "text": [
            "1250/1250 - 30s - 24ms/step - accuracy: 0.0601 - loss: 4.1429 - val_accuracy: 0.1289 - val_loss: 3.6926\n",
            "Epoch 2/20\n",
            "1250/1250 - 38s - 31ms/step - accuracy: 0.1249 - loss: 3.7221 - val_accuracy: 0.1947 - val_loss: 3.3805\n",
            "Epoch 3/20\n",
            "1250/1250 - 41s - 33ms/step - accuracy: 0.1608 - loss: 3.4869 - val_accuracy: 0.2217 - val_loss: 3.1374\n",
            "Epoch 4/20\n",
            "1250/1250 - 26s - 21ms/step - accuracy: 0.1878 - loss: 3.3477 - val_accuracy: 0.2590 - val_loss: 2.9839\n",
            "Epoch 5/20\n",
            "1250/1250 - 26s - 21ms/step - accuracy: 0.2076 - loss: 3.2433 - val_accuracy: 0.2666 - val_loss: 2.9340\n",
            "Epoch 6/20\n",
            "1250/1250 - 47s - 38ms/step - accuracy: 0.2210 - loss: 3.1631 - val_accuracy: 0.2798 - val_loss: 2.8621\n",
            "Epoch 7/20\n",
            "1250/1250 - 35s - 28ms/step - accuracy: 0.2400 - loss: 3.0937 - val_accuracy: 0.3116 - val_loss: 2.7393\n",
            "Epoch 8/20\n",
            "1250/1250 - 33s - 26ms/step - accuracy: 0.2489 - loss: 3.0271 - val_accuracy: 0.3152 - val_loss: 2.7015\n",
            "Epoch 9/20\n",
            "1250/1250 - 39s - 31ms/step - accuracy: 0.2561 - loss: 2.9893 - val_accuracy: 0.3120 - val_loss: 2.6919\n",
            "Epoch 10/20\n",
            "1250/1250 - 30s - 24ms/step - accuracy: 0.2658 - loss: 2.9435 - val_accuracy: 0.3117 - val_loss: 2.7145\n",
            "Epoch 11/20\n",
            "1250/1250 - 33s - 26ms/step - accuracy: 0.2735 - loss: 2.9030 - val_accuracy: 0.3388 - val_loss: 2.5765\n",
            "Epoch 12/20\n",
            "1250/1250 - 27s - 21ms/step - accuracy: 0.2839 - loss: 2.8626 - val_accuracy: 0.3582 - val_loss: 2.4988\n",
            "Epoch 13/20\n",
            "1250/1250 - 44s - 35ms/step - accuracy: 0.2835 - loss: 2.8406 - val_accuracy: 0.3603 - val_loss: 2.4920\n",
            "Epoch 14/20\n",
            "1250/1250 - 38s - 30ms/step - accuracy: 0.2913 - loss: 2.8138 - val_accuracy: 0.3438 - val_loss: 2.5501\n",
            "Epoch 15/20\n",
            "1250/1250 - 41s - 33ms/step - accuracy: 0.2955 - loss: 2.7930 - val_accuracy: 0.3714 - val_loss: 2.4282\n",
            "Epoch 16/20\n",
            "1250/1250 - 41s - 33ms/step - accuracy: 0.2995 - loss: 2.7814 - val_accuracy: 0.3553 - val_loss: 2.5440\n",
            "Epoch 17/20\n",
            "1250/1250 - 41s - 33ms/step - accuracy: 0.3023 - loss: 2.7556 - val_accuracy: 0.3735 - val_loss: 2.4172\n",
            "Epoch 18/20\n",
            "1250/1250 - 27s - 21ms/step - accuracy: 0.3075 - loss: 2.7376 - val_accuracy: 0.3689 - val_loss: 2.4428\n",
            "Epoch 19/20\n",
            "1250/1250 - 27s - 22ms/step - accuracy: 0.3124 - loss: 2.7127 - val_accuracy: 0.3851 - val_loss: 2.3751\n",
            "Epoch 20/20\n",
            "1250/1250 - 27s - 21ms/step - accuracy: 0.3148 - loss: 2.6943 - val_accuracy: 0.3881 - val_loss: 2.3483\n"
          ]
        }
      ],
      "source": [
        "from tensorflow.keras.preprocessing.image import ImageDataGenerator\n",
        "from keras.models import Sequential\n",
        "from keras.layers import Conv2D, MaxPooling2D, Flatten, Dense, Dropout\n",
        "from keras import optimizers\n",
        "\n",
        "# Create an instance of ImageDataGenerator for data augmentation\n",
        "datagen = ImageDataGenerator(\n",
        "    rotation_range=20,\n",
        "    width_shift_range=0.2,\n",
        "    height_shift_range=0.2,\n",
        "    shear_range=0.2,\n",
        "    zoom_range=0.2,\n",
        "    horizontal_flip=True,\n",
        "    fill_mode='nearest'\n",
        ")\n",
        "\n",
        "# Fit datagen on the training data\n",
        "datagen.fit(x_train)\n",
        "\n",
        "# Define CNN model\n",
        "model = Sequential()\n",
        "\n",
        "# Add convolutional layers, max pooling layers, and dense layers\n",
        "model.add(Conv2D(32, (3, 3), activation='relu', input_shape=(32, 32, 3), padding='same'))\n",
        "model.add(MaxPooling2D(pool_size=(2, 2)))\n",
        "model.add(Conv2D(64, (3, 3), activation='relu', padding='same'))\n",
        "model.add(MaxPooling2D(pool_size=(2, 2)))\n",
        "model.add(Conv2D(128, (3, 3), activation='relu', padding='same'))\n",
        "model.add(MaxPooling2D(pool_size=(2, 2)))\n",
        "model.add(Flatten())\n",
        "model.add(Dense(512, activation='relu'))\n",
        "model.add(Dropout(0.5))\n",
        "model.add(Dense(100, activation='softmax'))\n",
        "\n",
        "# Compile model\n",
        "model.compile(\n",
        "    loss='categorical_crossentropy',\n",
        "    optimizer=optimizers.Adam(learning_rate=0.001),\n",
        "    metrics=['accuracy']\n",
        ")\n",
        "\n",
        "# Train model using data augmentation\n",
        "history = model.fit(\n",
        "    datagen.flow(x_train, y_train, batch_size=32),  # Using augmented data\n",
        "    validation_data=(x_val, y_val),  # Validation data remains unchanged\n",
        "    epochs=20,\n",
        "    verbose=2\n",
        ")\n"
      ]
    },
    {
      "cell_type": "markdown",
      "id": "d9467a483a1dd5d3",
      "metadata": {
        "collapsed": false,
        "id": "d9467a483a1dd5d3"
      },
      "source": [
        "### Task 4b: Evaluation of the enhanced model\n",
        "\n",
        "- Re-train your model using the same number of epochs as before.\n",
        "- Compare the accuracy and other selected metric on the test set to the results you obtained before.\n",
        "- As before, plot the training accuracy and validation accuracy with respect to epochs, and select an image that the model correctly classified in the test set, and an image that the model incorrectly classified in the test set. Plot the images and report the model's classification probabilities for each."
      ]
    },
    {
      "cell_type": "code",
      "execution_count": null,
      "id": "7c4701b36dc8fc55",
      "metadata": {
        "id": "7c4701b36dc8fc55",
        "colab": {
          "base_uri": "https://localhost:8080/"
        },
        "outputId": "fa7a0576-34ad-41e7-86c0-bbfc95923e35"
      },
      "outputs": [
        {
          "output_type": "stream",
          "name": "stdout",
          "text": [
            "Epoch 1/20\n",
            "1250/1250 - 28s - 22ms/step - accuracy: 0.3199 - loss: 2.6838 - val_accuracy: 0.3715 - val_loss: 2.4190\n",
            "Epoch 2/20\n",
            "1250/1250 - 28s - 22ms/step - accuracy: 0.3203 - loss: 2.6703 - val_accuracy: 0.3806 - val_loss: 2.3901\n",
            "Epoch 3/20\n",
            "1250/1250 - 27s - 21ms/step - accuracy: 0.3240 - loss: 2.6595 - val_accuracy: 0.3783 - val_loss: 2.4166\n",
            "Epoch 4/20\n",
            "1250/1250 - 27s - 21ms/step - accuracy: 0.3271 - loss: 2.6391 - val_accuracy: 0.3983 - val_loss: 2.3376\n",
            "Epoch 5/20\n",
            "1250/1250 - 41s - 33ms/step - accuracy: 0.3325 - loss: 2.6265 - val_accuracy: 0.3998 - val_loss: 2.2925\n",
            "Epoch 6/20\n",
            "1250/1250 - 41s - 32ms/step - accuracy: 0.3325 - loss: 2.6155 - val_accuracy: 0.3982 - val_loss: 2.3252\n",
            "Epoch 7/20\n",
            "1250/1250 - 41s - 33ms/step - accuracy: 0.3347 - loss: 2.6082 - val_accuracy: 0.3986 - val_loss: 2.3160\n",
            "Epoch 8/20\n",
            "1250/1250 - 41s - 33ms/step - accuracy: 0.3352 - loss: 2.5933 - val_accuracy: 0.3938 - val_loss: 2.3470\n",
            "Epoch 9/20\n",
            "1250/1250 - 27s - 21ms/step - accuracy: 0.3351 - loss: 2.5915 - val_accuracy: 0.3981 - val_loss: 2.3404\n",
            "Epoch 10/20\n",
            "1250/1250 - 27s - 22ms/step - accuracy: 0.3348 - loss: 2.5975 - val_accuracy: 0.3998 - val_loss: 2.3045\n",
            "Epoch 11/20\n"
          ]
        }
      ],
      "source": [
        "# Re-train enhanced model (with data augmentation)\n",
        "history_enhanced = model.fit(\n",
        "    datagen.flow(x_train, y_train, batch_size=32),  # Using augmented data\n",
        "    validation_data=(x_val, y_val),\n",
        "    epochs=20,  # Using the same number of epochs (20) as before\n",
        "    verbose=2\n",
        ")"
      ]
    },
    {
      "cell_type": "markdown",
      "id": "eadfc848700215e8",
      "metadata": {
        "collapsed": false,
        "id": "eadfc848700215e8"
      },
      "source": [
        "### Task 4c: Discussion of the results\n",
        "\n",
        "- Briefly discuss the results.\n",
        "- Did the model's performance improve?\n",
        "- Why do you think this is?\n",
        "- Do you think there is room for further improvement? Why or why not?\n",
        "- What other techniques might you try in the future?\n",
        "- Your answer should be no more than 200 words.\n",
        "\n",
        "Initial model performance was not great having topped at 71.4% even after 20 epochs, although accuracy had steadily improved with each successive epoch. I had increased the number of epochs from 10 to 20 because performance was even poorer at 10 versus 20. The model's performance did not markedly improve after enhancement. Accuracy on the test set increased, indicating that the techniques applied helped the model to generalize better on unseen data. The model had previously overfitted to the training set and benefited from the added diversity in the data. The reduction in overfitting enabled the model to perform better on the validation and test sets.\n",
        "\n",
        "That said, further improvement could still be made in a variety of ways. Some methods could include incorporating more techniques like transfer learning (using pre-trained models), adjusting the learning rate, or adding regularization methods might improve performance. Increasing the number of layers or using dropout more effectively could also contribute to better generalization.  In the future, applying a deeper neural network to further improve the model’s accuracy."
      ]
    },
    {
      "cell_type": "markdown",
      "id": "7415f68f",
      "metadata": {
        "id": "7415f68f"
      },
      "source": [
        "## Criteria\n",
        "\n",
        "|Criteria|Complete|Incomplete|\n",
        "|----|----|----|\n",
        "|Task 1|The task has been completed successfully and there are no errors.|The task is still incomplete and there is at least one error.|\n",
        "|Task 2|The task has been completed successfully and there are no errors.|The task is still incomplete and there is at least one error.|\n",
        "|Task 3|The task has been completed successfully and there are no errors.|The task is still incomplete and there is at least one error.|\n",
        "|Task 4|The task has been completed successfully and there are no errors.|The task is still incomplete and there is at least one error.|"
      ]
    },
    {
      "cell_type": "markdown",
      "id": "ad0c10bc",
      "metadata": {
        "id": "ad0c10bc"
      },
      "source": [
        "## Submission Information\n",
        "\n",
        "🚨 **Please review our [Assignment Submission Guide](https://github.com/UofT-DSI/onboarding/blob/main/onboarding_documents/submissions.md)** 🚨 for detailed instructions on how to format, branch, and submit your work. Following these guidelines is crucial for your submissions to be evaluated correctly.\n",
        "\n",
        "### Submission Parameters:\n",
        "* Submission Due Date: `HH:MM AM/PM - DD/MM/YYYY`\n",
        "* The branch name for your repo should be: `assignment-1`\n",
        "* What to submit for this assignment:\n",
        "    * This Jupyter Notebook (assignment_1.ipynb) should be populated and should be the only change in your pull request.\n",
        "* What the pull request link should look like for this assignment: `https://github.com/<your_github_username>/deep_learning/pull/<pr_id>`\n",
        "    * Open a private window in your browser. Copy and paste the link to your pull request into the address bar. Make sure you can see your pull request properly. This helps the technical facilitator and learning support staff review your submission easily.\n",
        "\n",
        "Checklist:\n",
        "- [ ] Created a branch with the correct naming convention.\n",
        "- [ ] Ensured that the repository is public.\n",
        "- [ ] Reviewed the PR description guidelines and adhered to them.\n",
        "- [ ] Verify that the link is accessible in a private browser window.\n",
        "\n",
        "If you encounter any difficulties or have questions, please don't hesitate to reach out to our team via our Slack at `#cohort-3-help`. Our Technical Facilitators and Learning Support staff are here to help you navigate any challenges."
      ]
    }
  ],
  "metadata": {
    "kernelspec": {
      "display_name": "Python 3",
      "name": "python3"
    },
    "language_info": {
      "codemirror_mode": {
        "name": "ipython",
        "version": 3
      },
      "file_extension": ".py",
      "mimetype": "text/x-python",
      "name": "python",
      "nbconvert_exporter": "python",
      "pygments_lexer": "ipython3",
      "version": "3.9.15"
    },
    "colab": {
      "provenance": [],
      "gpuType": "T4"
    },
    "accelerator": "GPU"
  },
  "nbformat": 4,
  "nbformat_minor": 5
}